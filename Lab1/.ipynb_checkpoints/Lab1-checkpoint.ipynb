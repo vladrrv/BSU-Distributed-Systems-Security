{
 "cells": [
  {
   "cell_type": "code",
   "execution_count": 1,
   "metadata": {},
   "outputs": [],
   "source": [
    "import string\n",
    "from matplotlib import pyplot as plt\n",
    "import re\n",
    "import numpy as np\n",
    "import textwrap\n",
    "import os\n",
    "from jupyterthemes import jtplot\n",
    "jtplot.style()"
   ]
  },
  {
   "cell_type": "code",
   "execution_count": 2,
   "metadata": {},
   "outputs": [
    {
     "name": "stdout",
     "output_type": "stream",
     "text": [
      "10782559\n",
      "cleon i, historians are divided as to the nature of his rule. the classic interpretation is that he was another in the long line of strong and ruthless oppressors in the last century of the undivided \n"
     ]
    }
   ],
   "source": [
    "directory = 'D:/Workspace/BSU-NLP/corpus'\n",
    "text = []\n",
    "for filename in os.listdir(directory):\n",
    "    with open(os.path.join(directory,filename), 'r', errors='ignore') as file:\n",
    "        text.append(file.read().lower())\n",
    "text = ''.join(text)\n",
    "print(len(text))\n",
    "print(text[200:400])"
   ]
  },
  {
   "cell_type": "code",
   "execution_count": 3,
   "metadata": {},
   "outputs": [],
   "source": [
    "alphabet = list(map(chr, range(ord('a'), ord('z')+1)))\n",
    "\n",
    "letters_freq = {\n",
    "    'A':0.08167,\n",
    "    'B':0.01492,\n",
    "    'C':0.02782,\n",
    "    'D':0.04253,\n",
    "    'E':0.12702,\n",
    "    'F':0.0228,\n",
    "    'G':0.02015,\n",
    "    'H':0.06094,\n",
    "    'I':0.06966,\n",
    "    'J':0.00153,\n",
    "    'K':0.00772,\n",
    "    'L':0.04025,\n",
    "    'M':0.02406,\n",
    "    'N':0.06749,\n",
    "    'O':0.07507,\n",
    "    'P':0.01929,\n",
    "    'Q':0.00095,\n",
    "    'R':0.05987,\n",
    "    'S':0.06327,\n",
    "    'T':0.09056,\n",
    "    'U':0.02758,\n",
    "    'V':0.00978,\n",
    "    'W':0.0236,\n",
    "    'X':0.0015,\n",
    "    'Y':0.01974,\n",
    "    'Z':0.00074\n",
    "}"
   ]
  },
  {
   "cell_type": "code",
   "execution_count": 4,
   "metadata": {},
   "outputs": [],
   "source": [
    "def make_dicts(permuted):\n",
    "    dct = dict(zip(alphabet, permuted))\n",
    "    inv = dict(zip(permuted, alphabet))\n",
    "    \n",
    "    return dct, inv\n",
    "\n",
    "def encrypt_caesar(text, mod=3, inverse=False):\n",
    "    permuted = alphabet[mod:]+alphabet[:mod]\n",
    "    dct, inv = make_dicts(permuted)\n",
    "    if inverse: dct = inv\n",
    "    result = ''.join([dct.get(c, c) for c in text])\n",
    "    return result\n",
    "\n",
    "def encrypt_vigenere(text, keyword='mouse', inverse=False):\n",
    "    m = len(keyword)\n",
    "    dcts = []\n",
    "    invs = []\n",
    "    for keychar in keyword:\n",
    "        mod = ord(keychar) - ord('a')\n",
    "        permuted = alphabet[mod:]+alphabet[:mod]\n",
    "        dct, inv = make_dicts(permuted)\n",
    "        dcts.append(dct)\n",
    "        invs.append(inv)\n",
    "    result = ''    \n",
    "    if inverse: dcts = invs\n",
    "    for i, c in enumerate(text):\n",
    "        c = dcts[i%m].get(c, c)\n",
    "        result += c\n",
    "    return result\n"
   ]
  },
  {
   "cell_type": "code",
   "execution_count": 5,
   "metadata": {},
   "outputs": [
    {
     "name": "stdout",
     "output_type": "stream",
     "text": [
      "Encrypted with caesar:\n",
      " fohrq l, klvwruldqv duh glylghg dv wr wkh qdwxuh ri klv uxoh. wkh fodvvlf lqwhusuhwdwlrq lv wkdw kh zdv dqrwkhu lq wkh orqj olqh ri vwurqj dqg uxwkohvv rssuhvvruv lq wkh odvw fhqwxub ri wkh xqglylghg \n",
      "Decrypted with caesar:\n",
      " cleon i, historians are divided as to the nature of his rule. the classic interpretation is that he was another in the long line of strong and ruthless oppressors in the last century of the undivided \n"
     ]
    }
   ],
   "source": [
    "encr_c = encrypt_caesar(text[200:400])\n",
    "print('Encrypted with caesar:\\n', encr_c)\n",
    "decr_c = encrypt_caesar(encr_c, inverse=True)\n",
    "print('Decrypted with caesar:\\n', decr_c)"
   ]
  },
  {
   "cell_type": "code",
   "execution_count": 6,
   "metadata": {},
   "outputs": [
    {
     "name": "stdout",
     "output_type": "stream",
     "text": [
      "Encrypted with vigenere:\n",
      " ozygr w, lugngvuohk mfy hujcvip uk fc llq hsxgfy sr baw fodi. nzi qfsweww mzhyjtdsnsxuch me nzef bw iom ezcnzid cf fvy paba puby sr mlvaba ezr jyfvfwwe ihtdsmksdg ar hbw xoml oshlydm gj hbw gbxazuryv \n",
      "Decrypted with vigenere:\n",
      " cleon i, historians are divided as to the nature of his rule. the classic interpretation is that he was another in the long line of strong and ruthless oppressors in the last century of the undivided \n"
     ]
    }
   ],
   "source": [
    "encr_v = encrypt_vigenere(text[200:400])\n",
    "print('Encrypted with vigenere:\\n', encr_v)\n",
    "decr_v = encrypt_vigenere(encr_v, inverse=True)\n",
    "print('Decrypted with vigenere:\\n', decr_v)"
   ]
  },
  {
   "cell_type": "code",
   "execution_count": 7,
   "metadata": {},
   "outputs": [],
   "source": [
    "def analyze_kasiski(text):\n",
    "    t = len(text)\n",
    "    dist = np.zeros(t, dtype=int)\n",
    "    for l in range(3,5):\n",
    "        lgrams = []\n",
    "        for i in range(t-l+1):\n",
    "            lgram = text[i:i+l]\n",
    "            if lgram.isalpha(): lgrams.append(lgram)\n",
    "        for i, lgram in enumerate(lgrams):\n",
    "            #print(lgram)\n",
    "            starts = [m.start() for m in re.finditer(lgram, text[i:])]\n",
    "            #print(starts)\n",
    "            for i in range(1,len(starts)):\n",
    "                d = starts[i]-starts[i-1]\n",
    "                dist[d] += 1\n",
    "    pairs = np.column_stack((np.arange(t)[dist>0], dist[dist>0]))\n",
    "    predicted_lengths = []\n",
    "    threshold = 0\n",
    "    while len(pairs) > 0:\n",
    "        predicted_lengths.append(np.gcd.reduce(pairs[:,0]))\n",
    "        threshold = pairs[:,1].min()\n",
    "        pairs = pairs[pairs[:,1] > threshold]\n",
    "    \n",
    "    lens, probs = np.unique(predicted_lengths, return_counts=True)\n",
    "    probs = probs.astype(float)\n",
    "    return dict(zip(lens, probs/probs.sum()))"
   ]
  },
  {
   "cell_type": "code",
   "execution_count": 8,
   "metadata": {},
   "outputs": [
    {
     "name": "stdout",
     "output_type": "stream",
     "text": [
      "ozygr w, lugngvuohk mfy hujcvip uk fc llq hsxgfy sr baw fodi. nzi qfsweww mzhyjtdsnsxuch me nzef bw iom ezcnzid cf fvy paba puby sr mlvaba ezr jyfvfwwe ihtdsmksdg ar hbw xoml oshlydm gj hbw gbxazuryv \n"
     ]
    }
   ],
   "source": [
    "encrypted_text = encrypt_vigenere(text)\n",
    "print(encrypted_text[200:400])"
   ]
  },
  {
   "cell_type": "code",
   "execution_count": 18,
   "metadata": {},
   "outputs": [
    {
     "name": "stdout",
     "output_type": "stream",
     "text": [
      "{1: 0.5581787521079258, 5: 0.4413996627318718, 40: 0.00042158516020236085}\n"
     ]
    }
   ],
   "source": [
    "len_probs = analyze_kasiski(encrypted_text)\n",
    "print(len_probs)"
   ]
  },
  {
   "cell_type": "code",
   "execution_count": 9,
   "metadata": {},
   "outputs": [],
   "source": [
    "def get_freqs(text):\n",
    "    freqs = {a: text.count(a) for a in alphabet}\n",
    "    total = sum(list(freqs.values()))\n",
    "    if total != 0:\n",
    "        for key in freqs:\n",
    "            freqs[key] /= total\n",
    "    return freqs\n",
    "\n",
    "def find_letter(freq_list):\n",
    "    true_freq_list = np.array(list(letters_freq.values()))\n",
    "    errors = np.empty(len(true_freq_list))\n",
    "    for delta in range(len(true_freq_list)):\n",
    "        shifted_freq_list = np.roll(freq_list,-delta)\n",
    "        errors[delta] = np.linalg.norm(shifted_freq_list-true_freq_list)\n",
    "    return chr(ord('a')+np.argmin(errors))\n",
    "\n",
    "def decrypt(text, keyword_length, return_decrypted=False):\n",
    "    keyword = ''\n",
    "    for i in range(keyword_length):\n",
    "        freqs = get_freqs(text[i::keyword_length])\n",
    "        keyword += find_letter(list(freqs.values()))\n",
    "    #print(keyword)\n",
    "    if return_decrypted: return encrypt_vigenere(text, keyword, True)\n",
    "    return keyword"
   ]
  },
  {
   "cell_type": "code",
   "execution_count": 22,
   "metadata": {},
   "outputs": [
    {
     "name": "stdout",
     "output_type": "stream",
     "text": [
      "cleon i, historians are divided as to the nature of his rule. the classic interpretation is that he was another in the long line of strong and ruthless oppressors in the last century of the undivided \n"
     ]
    }
   ],
   "source": [
    "decrypted_text = decrypt(encrypted_text, 5, True)\n",
    "print(decrypted_text[200:400])"
   ]
  },
  {
   "cell_type": "code",
   "execution_count": 10,
   "metadata": {},
   "outputs": [],
   "source": [
    "def get_decrypt_prob(large_text, l, keyword='mouse', num_guessed=10):\n",
    "    chunks = np.random.choice(textwrap.wrap(large_text, l)[:-1],100,False)\n",
    "    encr_chunks = [encrypt_vigenere(chunk,keyword) for chunk in chunks]\n",
    "    total = len(encr_chunks)\n",
    "    succeeded = 0\n",
    "    for i, encrypted_text in enumerate(encr_chunks):\n",
    "        print(f'\\r{i+1}/{total}', end='')\n",
    "        len_probs = analyze_kasiski(encrypted_text)\n",
    "        guessed_keywords = [\n",
    "            decrypt(encrypted_text, guessed_len) \n",
    "            for guessed_len, prob in sorted(len_probs.items(), key=lambda kv: kv[1], reverse=True)[:num_guessed]\n",
    "        ]\n",
    "        if keyword in guessed_keywords:\n",
    "            succeeded += 1\n",
    "    print()\n",
    "    return succeeded/total"
   ]
  },
  {
   "cell_type": "code",
   "execution_count": 11,
   "metadata": {},
   "outputs": [
    {
     "name": "stdout",
     "output_type": "stream",
     "text": [
      "100/100\n",
      "100/100\n",
      "100/100\n",
      "100/100\n",
      "100/100\n"
     ]
    },
    {
     "data": {
      "image/png": "[encoded data removed]",
      "text/plain": [
       "<Figure size 2160x720 with 1 Axes>"
      ]
     },
     "metadata": {
      "needs_background": "dark"
     },
     "output_type": "display_data"
    }
   ],
   "source": [
    "text_sizes = [500,1000,2000,5000,10000,20000,50000,100000][:-3]\n",
    "success_probs = [get_decrypt_prob(text, text_size, keyword='abcdefgghye') for text_size in text_sizes]\n",
    "\n",
    "plt.figure(figsize=(30,10))\n",
    "plt.plot(text_sizes, success_probs)\n",
    "plt.xticks(text_sizes)\n",
    "plt.show()"
   ]
  },
  {
   "cell_type": "code",
   "execution_count": 12,
   "metadata": {},
   "outputs": [
    {
     "name": "stdout",
     "output_type": "stream",
     "text": [
      "['qhiff', 'kwqqbcswit', 'rxvlfdikzyxuzjs', 'jaikszskpowisevuxhsw', 'blvmmiiitfsxhlsrmkdovklgw', 'dvfbtsqapqzhofrwgweuibpndlhqyj', 'quoakycotlfxlguojxzuzwhxrfvhuwsxpvf', 'vsbsyfsggiwbjplnefhznjbelkhkabymbyrozkcv']\n",
      "100/100\n",
      "100/100\n",
      "100/100\n",
      "100/100\n",
      "100/100\n",
      "100/100\n",
      "100/100\n",
      "100/100\n"
     ]
    },
    {
     "data": {
      "image/png": "[encoded data removed]",
      "text/plain": [
       "<Figure size 1440x720 with 1 Axes>"
      ]
     },
     "metadata": {
      "needs_background": "dark"
     },
     "output_type": "display_data"
    }
   ],
   "source": [
    "keywords = ['it', 'cat', 'word', 'mouse', 'keyword', 'longkeyword', 'verylongkeyword', 'impossibletodecrypt']\n",
    "keywords = [''.join(np.random.choice(alphabet, size=5*x)) for x in range(1,9)]\n",
    "print(keywords)\n",
    "lens = [len(keyword) for keyword in keywords]\n",
    "success_probs_k = [get_decrypt_prob(text, 10000, keyword) for keyword in keywords]\n",
    "\n",
    "plt.figure(figsize=(20,10))\n",
    "plt.plot(lens, success_probs_k)\n",
    "plt.xticks(lens)\n",
    "plt.show()"
   ]
  },
  {
   "cell_type": "code",
   "execution_count": null,
   "metadata": {},
   "outputs": [],
   "source": []
  }
 ],
 "metadata": {
  "kernelspec": {
   "display_name": "Python 3",
   "language": "python",
   "name": "python3"
  },
  "language_info": {
   "codemirror_mode": {
    "name": "ipython",
    "version": 3
   },
   "file_extension": ".py",
   "mimetype": "text/x-python",
   "name": "python",
   "nbconvert_exporter": "python",
   "pygments_lexer": "ipython3",
   "version": "3.7.4"
  }
 },
 "nbformat": 4,
 "nbformat_minor": 2
}
