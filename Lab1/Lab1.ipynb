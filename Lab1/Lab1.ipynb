{
 "cells": [
  {
   "cell_type": "code",
   "execution_count": null,
   "metadata": {},
   "outputs": [],
   "source": []
  },
  {
   "cell_type": "code",
   "execution_count": 1,
   "metadata": {},
   "outputs": [
    {
     "name": "stdout",
     "output_type": "stream",
     "text": [
      "some text here\n"
     ]
    }
   ],
   "source": [
    "filename = 'text.txt'\n",
    "with open(filename, 'r') as file:\n",
    "    text = file.read()\n",
    "print(text)"
   ]
  },
  {
   "cell_type": "code",
   "execution_count": 17,
   "metadata": {},
   "outputs": [],
   "source": [
    "alphabet = list(map(chr, range(ord('a'), ord('z')+1)))\n",
    "\n",
    "def make_dicts(permuted):\n",
    "    dct = dict(zip(alphabet,permuted))\n",
    "    inv = dict(zip(permuted, alphabet))\n",
    "    dct[' '] = ' '\n",
    "    inv[' '] = ' '\n",
    "    return dct, inv\n",
    "\n",
    "def encrypt_caesar(text, mod=3, inverse=False):\n",
    "    permuted = alphabet[mod:]+alphabet[:mod]\n",
    "    dct, inv = make_dicts(permuted)\n",
    "    if inverse: dct = inv\n",
    "    result = ''.join([dct[c] for c in text])\n",
    "    return result\n",
    "\n",
    "def encrypt_vigenere(text, keyword='mouse', inverse=False):\n",
    "    m = len(keyword)\n",
    "    dcts = []\n",
    "    invs = []\n",
    "    for keychar in keyword:\n",
    "        mod = ord(keychar) - ord('a')\n",
    "        permuted = alphabet[mod:]+alphabet[:mod]\n",
    "        dct, inv = make_dicts(permuted)\n",
    "        dcts.append(dct)\n",
    "        invs.append(inv)\n",
    "    result = ''    \n",
    "    if inverse: dcts = invs\n",
    "    for i, c in enumerate(text):\n",
    "        c = dcts[i%m][c]\n",
    "        result += c\n",
    "    return result\n"
   ]
  },
  {
   "cell_type": "code",
   "execution_count": 18,
   "metadata": {},
   "outputs": [
    {
     "data": {
      "text/plain": [
       "'vrph whaw khuh'"
      ]
     },
     "execution_count": 18,
     "metadata": {},
     "output_type": "execute_result"
    }
   ],
   "source": [
    "encrypt_caesar(text)"
   ]
  },
  {
   "cell_type": "code",
   "execution_count": 19,
   "metadata": {},
   "outputs": [
    {
     "data": {
      "text/plain": [
       "'ofshxaulsttm srp xsxm mwggfclc'"
      ]
     },
     "execution_count": 19,
     "metadata": {},
     "output_type": "execute_result"
    }
   ],
   "source": [
    "encrypt_vigenere('cryptography and data security')"
   ]
  },
  {
   "cell_type": "code",
   "execution_count": 23,
   "metadata": {},
   "outputs": [
    {
     "data": {
      "text/plain": [
       "'cryptography anv data security'"
      ]
     },
     "execution_count": 23,
     "metadata": {},
     "output_type": "execute_result"
    }
   ],
   "source": [
    "encrypt_vigenere('ofshxaulsttm srh xsxm mwggfclc', inverse=True)"
   ]
  },
  {
   "cell_type": "code",
   "execution_count": null,
   "metadata": {},
   "outputs": [],
   "source": [
    "def analyze_kasiski(text):\n",
    "    t = len(text)\n",
    "    for l in range(3,t//2):\n",
    "        "
   ]
  }
 ],
 "metadata": {
  "kernelspec": {
   "display_name": "Python 3",
   "language": "python",
   "name": "python3"
  },
  "language_info": {
   "codemirror_mode": {
    "name": "ipython",
    "version": 3
   },
   "file_extension": ".py",
   "mimetype": "text/x-python",
   "name": "python",
   "nbconvert_exporter": "python",
   "pygments_lexer": "ipython3",
   "version": "3.7.4"
  }
 },
 "nbformat": 4,
 "nbformat_minor": 2
}
