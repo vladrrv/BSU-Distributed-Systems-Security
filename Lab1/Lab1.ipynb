{
 "cells": [
  {
   "cell_type": "code",
   "execution_count": 1,
   "metadata": {},
   "outputs": [],
   "source": [
    "import string\n",
    "from matplotlib import pyplot as plt\n",
    "import re\n",
    "import numpy as np"
   ]
  },
  {
   "cell_type": "code",
   "execution_count": 2,
   "metadata": {},
   "outputs": [
    {
     "name": "stdout",
     "output_type": "stream",
     "text": [
      "ch i was hastening.\n",
      "\n",
      "i was 21 years old, a graduate student in chemistry at columbia university, and i had been writing science fiction professionally for three years. in that time, i had sold five stories to john campbell, editor of astounding, and the fifth story, \"nightfall,\" was about to appear \n"
     ]
    }
   ],
   "source": [
    "filename = 'D:/Workspace/BSU-NLP/corpus/Asimov Isaac. Foundation.txt'\n",
    "with open(filename, 'r') as file:\n",
    "    text = file.read().lower()\n",
    "print(len(text))\n",
    "print(text[500:800])"
   ]
  },
  {
   "cell_type": "code",
   "execution_count": 3,
   "metadata": {},
   "outputs": [],
   "source": [
    "alphabet = list(map(chr, range(ord('a'), ord('z')+1)))\n",
    "\n",
    "letters_freq = {\n",
    "    'A':0.08167,\n",
    "    'B':0.01492,\n",
    "    'C':0.02782,\n",
    "    'D':0.04253,\n",
    "    'E':0.12702,\n",
    "    'F':0.0228,\n",
    "    'G':0.02015,\n",
    "    'H':0.06094,\n",
    "    'I':0.06966,\n",
    "    'J':0.00153,\n",
    "    'K':0.00772,\n",
    "    'L':0.04025,\n",
    "    'M':0.02406,\n",
    "    'N':0.06749,\n",
    "    'O':0.07507,\n",
    "    'P':0.01929,\n",
    "    'Q':0.00095,\n",
    "    'R':0.05987,\n",
    "    'S':0.06327,\n",
    "    'T':0.09056,\n",
    "    'U':0.02758,\n",
    "    'V':0.00978,\n",
    "    'W':0.0236,\n",
    "    'X':0.0015,\n",
    "    'Y':0.01974,\n",
    "    'Z':0.00074\n",
    "}"
   ]
  },
  {
   "cell_type": "code",
   "execution_count": 4,
   "metadata": {},
   "outputs": [],
   "source": [
    "def make_dicts(permuted):\n",
    "    dct = dict(zip(alphabet, permuted))\n",
    "    inv = dict(zip(permuted, alphabet))\n",
    "    \n",
    "    return dct, inv\n",
    "\n",
    "def encrypt_caesar(text, mod=3, inverse=False):\n",
    "    permuted = alphabet[mod:]+alphabet[:mod]\n",
    "    dct, inv = make_dicts(permuted)\n",
    "    if inverse: dct = inv\n",
    "    result = ''.join([dct.get(c, c) for c in text])\n",
    "    return result\n",
    "\n",
    "def encrypt_vigenere(text, keyword='mouse', inverse=False):\n",
    "    m = len(keyword)\n",
    "    dcts = []\n",
    "    invs = []\n",
    "    for keychar in keyword:\n",
    "        mod = ord(keychar) - ord('a')\n",
    "        permuted = alphabet[mod:]+alphabet[:mod]\n",
    "        dct, inv = make_dicts(permuted)\n",
    "        dcts.append(dct)\n",
    "        invs.append(inv)\n",
    "    result = ''    \n",
    "    if inverse: dcts = invs\n",
    "    for i, c in enumerate(text):\n",
    "        c = dcts[i%m].get(c, c)\n",
    "        result += c\n",
    "    return result\n"
   ]
  },
  {
   "cell_type": "code",
   "execution_count": 5,
   "metadata": {},
   "outputs": [
    {
     "name": "stdout",
     "output_type": "stream",
     "text": [
      "Encrypted with caesar:\n",
      " w 1, 1941. zruog zdu ll kdg ehhq udjlqj iru wzr bhduv. iudqfh kdg idoohq, wkh edwwoh ri eulwdlq kdg \n",
      "Decrypted with caesar:\n",
      " t 1, 1941. world war ii had been raging for two years. france had fallen, the battle of britain had \n"
     ]
    }
   ],
   "source": [
    "encr_c = encrypt_caesar(text[100:200])\n",
    "print('Encrypted with caesar:\\n', encr_c)\n",
    "decr_c = encrypt_caesar(encr_c, inverse=True)\n",
    "print('Decrypted with caesar:\\n', decr_c)"
   ]
  },
  {
   "cell_type": "code",
   "execution_count": 6,
   "metadata": {},
   "outputs": [
    {
     "name": "stdout",
     "output_type": "stream",
     "text": [
      "Encrypted with vigenere:\n",
      " f 1, 1941. kijpp qsv wc lmr tiqb jeswhy rcl xic qimfm. rfufgq bsh tudpqb, xts tefhfw at tvuhuar vuv \n",
      "Decrypted with vigenere:\n",
      " t 1, 1941. world war ii had been raging for two years. france had fallen, the battle of britain had \n"
     ]
    }
   ],
   "source": [
    "encr_v = encrypt_vigenere(text[100:200])\n",
    "print('Encrypted with vigenere:\\n', encr_v)\n",
    "decr_v = encrypt_vigenere(encr_v, inverse=True)\n",
    "print('Decrypted with vigenere:\\n', decr_v)"
   ]
  },
  {
   "cell_type": "code",
   "execution_count": 7,
   "metadata": {},
   "outputs": [],
   "source": [
    "def analyze_kasiski(text):\n",
    "    t = len(text)\n",
    "    dist = np.zeros(t, dtype=int)\n",
    "    for l in range(3,5):\n",
    "        lgrams = []\n",
    "        for i in range(t-l+1):\n",
    "            lgram = text[i:i+l]\n",
    "            if lgram.isalpha(): lgrams.append(lgram)\n",
    "        for i, lgram in enumerate(lgrams):\n",
    "            #print(lgram)\n",
    "            starts = [m.start() for m in re.finditer(lgram, text[i:])]\n",
    "            #print(starts)\n",
    "            for i in range(1,len(starts)):\n",
    "                d = starts[i]-starts[i-1]\n",
    "                dist[d] += 1\n",
    "    pairs = np.column_stack((np.arange(t)[dist>0], dist[dist>0]))\n",
    "    predicted_length = 1\n",
    "    threshold = 1000\n",
    "    while predicted_length < 2:\n",
    "        predicted_length = np.gcd.reduce(pairs[pairs[:,1] > threshold][:,0])\n",
    "        threshold += 100\n",
    "    return pairs, predicted_length"
   ]
  },
  {
   "cell_type": "code",
   "execution_count": 8,
   "metadata": {},
   "outputs": [
    {
     "name": "stdout",
     "output_type": "stream",
     "text": [
      "ov a iom lmgnwruba.\n",
      "\n",
      "w oee 21 ksujw cfv, o yvmrosxq mlypshl ub ulqackxdm sx qidyypcs gbcnidgclc, ufh w zep vwiz qjmfwhy eqcwros xmohcgr dlgjqgmaszofdc tij fvlwi mysve. ar hbsx hcei, c lmr ksxr xmhs kxafcww hi navh gmajtixz, ipwngv cz eehimrpwhy, ohv fvy jutnz ehijc, \"fmsvnxexz,\" iom encol fc stbsuj \n"
     ]
    }
   ],
   "source": [
    "encrypted_text = encrypt_vigenere(text)\n",
    "print(encrypted_text[500:800])"
   ]
  },
  {
   "cell_type": "code",
   "execution_count": 9,
   "metadata": {},
   "outputs": [
    {
     "name": "stdout",
     "output_type": "stream",
     "text": [
      "5\n"
     ]
    }
   ],
   "source": [
    "pairs, predicted_length = analyze_kasiski(encrypted_text)\n",
    "#print(pairs)\n",
    "print(predicted_length)"
   ]
  },
  {
   "cell_type": "code",
   "execution_count": 10,
   "metadata": {},
   "outputs": [],
   "source": [
    "def get_freqs(text):\n",
    "    freqs = {a: text.count(a) for a in alphabet}\n",
    "    total = sum(list(freqs.values()))\n",
    "    for key in freqs:    \n",
    "        freqs[key] /=  total\n",
    "    return freqs\n",
    "\n",
    "def find_letter(freq_list):\n",
    "    true_freq_list = np.array(list(letters_freq.values()))\n",
    "    errors = np.empty(len(true_freq_list))\n",
    "    for delta in range(len(true_freq_list)):\n",
    "        shifted_freq_list = np.roll(freq_list,-delta)\n",
    "        errors[delta] = np.linalg.norm(shifted_freq_list-true_freq_list)\n",
    "    return chr(ord('a')+np.argmin(errors))\n",
    "\n",
    "def decrypt(text, keyword_length):\n",
    "    keyword = ''\n",
    "    for i in range(keyword_length):\n",
    "        freqs = get_freqs(text[i::keyword_length])\n",
    "        keyword += find_letter(list(freqs.values()))\n",
    "    print(keyword)\n",
    "    return encrypt_vigenere(text, keyword, True)"
   ]
  },
  {
   "cell_type": "code",
   "execution_count": 11,
   "metadata": {},
   "outputs": [
    {
     "name": "stdout",
     "output_type": "stream",
     "text": [
      "mouse\n",
      "ch i was hastening.\n",
      "\n",
      "i was 21 years old, a graduate student in chemistry at columbia university, and i had been writing science fiction professionally for three years. in that time, i had sold five stories to john campbell, editor of astounding, and the fifth story, \"nightfall,\" was about to appear \n"
     ]
    }
   ],
   "source": [
    "decrypted_text = decrypt(encrypted_text, 5)\n",
    "print(decrypted_text[500:800])"
   ]
  },
  {
   "cell_type": "code",
   "execution_count": null,
   "metadata": {},
   "outputs": [],
   "source": [
    "def get_prob_text_len(text, l):\n",
    "    chunks = text.split(text, len(text)//l)\n",
    "    encr_chunks = [encrypt_vigenere(chunk) for chunk in chunks]\n",
    "    \n",
    "    decr_chunks = []"
   ]
  }
 ],
 "metadata": {
  "kernelspec": {
   "display_name": "Python 3",
   "language": "python",
   "name": "python3"
  },
  "language_info": {
   "codemirror_mode": {
    "name": "ipython",
    "version": 3
   },
   "file_extension": ".py",
   "mimetype": "text/x-python",
   "name": "python",
   "nbconvert_exporter": "python",
   "pygments_lexer": "ipython3",
   "version": "3.7.4"
  }
 },
 "nbformat": 4,
 "nbformat_minor": 2
}
